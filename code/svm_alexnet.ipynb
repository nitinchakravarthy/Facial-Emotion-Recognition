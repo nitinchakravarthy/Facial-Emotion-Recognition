{
  "nbformat": 4,
  "nbformat_minor": 0,
  "metadata": {
    "colab": {
      "name": "try_4.ipynb",
      "version": "0.3.2",
      "provenance": []
    },
    "kernelspec": {
      "name": "python3",
      "display_name": "Python 3"
    },
    "accelerator": "GPU"
  },
  "cells": [
    {
      "metadata": {
        "id": "ka90BKmxe7Et",
        "colab_type": "code",
        "colab": {
          "base_uri": "https://localhost:8080/",
          "height": 51
        },
        "outputId": "02ba2212-bf6b-4e12-da12-ec36e366a10c"
      },
      "cell_type": "code",
      "source": [
        "import numpy as np\n",
        "import pandas as pd\n",
        "import matplotlib.pyplot as plt\n",
        "\n",
        "import keras\n",
        "from keras.models import Sequential\n",
        "from keras.utils import to_categorical\n",
        "from keras.models import load_model\n",
        "from keras.preprocessing.image import ImageDataGenerator\n",
        "from keras.layers import Dense, Dropout, Activation, Flatten\n",
        "from keras.layers import Conv2D, MaxPooling2D,AveragePooling2D\n",
        "from keras import optimizers\n",
        "from keras.optimizers import Adadelta,Adam\n",
        "\n",
        "\n",
        "#from keras.preprocessing import sequence\n",
        "from keras.losses import categorical_crossentropy\n",
        "\n",
        "\n",
        "from google.colab import drive\n",
        "drive.mount('/content/gdrive')"
      ],
      "execution_count": 1,
      "outputs": [
        {
          "output_type": "stream",
          "text": [
            "Using TensorFlow backend.\n"
          ],
          "name": "stderr"
        },
        {
          "output_type": "stream",
          "text": [
            "Drive already mounted at /content/gdrive; to attempt to forcibly remount, call drive.mount(\"/content/gdrive\", force_remount=True).\n"
          ],
          "name": "stdout"
        }
      ]
    },
    {
      "metadata": {
        "id": "99EBTfaMfAbk",
        "colab_type": "code",
        "colab": {
          "base_uri": "https://localhost:8080/",
          "height": 272
        },
        "outputId": "a4372f31-543f-4531-b63f-1aec9b0ce7e8"
      },
      "cell_type": "code",
      "source": [
        "data =pd.read_csv('gdrive/My Drive/fer2013.csv')\n",
        "data.head()   \n",
        "pixels = data['pixels'].tolist()\n",
        "final_pixels_list=[]\n",
        "for i in range(len(pixels)):\n",
        "  pixels1=pixels[i].split()\n",
        "  results = [int(j) for j in pixels1]\n",
        "  array = np.array(pixels1)\n",
        "  array=array.reshape(48,48,1)\n",
        "  array = np.array(array, dtype=np.uint8)\n",
        "  final_pixels_list.append(array)     \n",
        "training_count=0\n",
        "testing_count=0\n",
        "validation_count=0\n",
        "for i in range(len(pixels)):\n",
        "  if data['Usage'][i]==\"Training\":\n",
        "    training_count=training_count+1\n",
        "  elif data['Usage'][i]=='PublicTest':\n",
        "    validation_count=validation_count+1\n",
        "  else:\n",
        "    testing_count=testing_count+1  \n",
        "\n",
        "print(training_count)\n",
        "print(validation_count)\n",
        "print(testing_count)\n",
        "print(data.tail())\n",
        "test_output=data['emotion'].tolist()\n",
        "for i in range(len(test_output)):\n",
        "     test_output[i]=int(test_output[i])\n",
        "encoded = to_categorical(test_output)\n",
        "test_output=encoded\n",
        "\n",
        "X_train=final_pixels_list[0:training_count]\n",
        "X_val = final_pixels_list[training_count: training_count+validation_count]\n",
        "X_test=final_pixels_list[training_count+validation_count:len(final_pixels_list)]\n",
        "\n",
        "y_train=test_output[0:training_count]\n",
        "y_val = test_output[training_count:training_count+validation_count]\n",
        "y_test=test_output[training_count+validation_count:len(final_pixels_list)]\n",
        "\n",
        "print(len(X_train))\n",
        "print(len(X_val))\n",
        "print(len(X_test))\n",
        "print((y_train.shape))\n",
        "print(len(y_val))\n",
        "print(len(y_test))"
      ],
      "execution_count": 2,
      "outputs": [
        {
          "output_type": "stream",
          "text": [
            "28709\n",
            "3589\n",
            "3589\n",
            "       emotion                                             pixels        Usage\n",
            "35882        6  50 36 17 22 23 29 33 39 34 37 37 37 39 43 48 5...  PrivateTest\n",
            "35883        3  178 174 172 173 181 188 191 194 196 199 200 20...  PrivateTest\n",
            "35884        0  17 17 16 23 28 22 19 17 25 26 20 24 31 19 27 9...  PrivateTest\n",
            "35885        3  30 28 28 29 31 30 42 68 79 81 77 67 67 71 63 6...  PrivateTest\n",
            "35886        2  19 13 14 12 13 16 21 33 50 57 71 84 97 108 122...  PrivateTest\n",
            "28709\n",
            "3589\n",
            "3589\n",
            "(28709, 7)\n",
            "3589\n",
            "3589\n"
          ],
          "name": "stdout"
        }
      ]
    },
    {
      "metadata": {
        "id": "zbBiFvuTfN7j",
        "colab_type": "code",
        "colab": {
          "base_uri": "https://localhost:8080/",
          "height": 51
        },
        "outputId": "d94b11e9-a7dd-4ebc-deff-3b2becfcd215"
      },
      "cell_type": "code",
      "source": [
        "X_train = np.array(X_train)\n",
        "X_val = np.array(X_val)\n",
        "X_test = np.array(X_test)\n",
        "\n",
        "y_train = np.array(y_train)\n",
        "y_val = np.array(y_val)\n",
        "y_test = np.array(y_test)\n",
        "\n",
        "print(\"X: train, val, test shapes: \",X_train.shape, X_val.shape, X_test.shape)\n",
        "print(\"Y: train, val, test shapes: \",y_train.shape, y_val.shape, y_test.shape)"
      ],
      "execution_count": 3,
      "outputs": [
        {
          "output_type": "stream",
          "text": [
            "X: train, val, test shapes:  (28709, 48, 48, 1) (3589, 48, 48, 1) (3589, 48, 48, 1)\n",
            "Y: train, val, test shapes:  (28709, 7) (3589, 7) (3589, 7)\n"
          ],
          "name": "stdout"
        }
      ]
    },
    {
      "metadata": {
        "id": "87jqxPVnfZGK",
        "colab_type": "code",
        "colab": {
          "base_uri": "https://localhost:8080/",
          "height": 663
        },
        "outputId": "86bbc140-be0c-433a-cbe8-00bd7aced315"
      },
      "cell_type": "code",
      "source": [
        "from keras.models import model_from_json\n",
        "\n",
        "batch_size=300\n",
        "\n",
        "h5_filename = 'gdrive/Team Drives/ML project/Manasa/model.h5'\n",
        "json_filepath = 'gdrive/Team Drives/ML project/Manasa/model.json'\n",
        "json_file = open(json_filepath,'r')\n",
        "\n",
        "loaded_model_json = json_file.read()\n",
        "\n",
        "json_file.close()\n",
        "\n",
        "saved_model = model_from_json(loaded_model_json)\n",
        "saved_model.load_weights(h5_filename)\n",
        "\n",
        "saved_model.summary()\n",
        "\n",
        "ada = Adadelta(lr=0.05, rho=0.95, epsilon=1e-08)\n",
        "saved_model.compile(loss='categorical_crossentropy',\n",
        "              optimizer=ada,\n",
        "              metrics=['accuracy'])\n",
        "\n",
        "\n",
        "\n",
        "test_scores = saved_model.evaluate(X_test, y_test, batch_size=batch_size)\n",
        "\n",
        "print(\"Test Loss: \" + str(test_scores[0]))\n",
        "print(\"Test Accuracy: \" + str(test_scores[1]))"
      ],
      "execution_count": 4,
      "outputs": [
        {
          "output_type": "stream",
          "text": [
            "_________________________________________________________________\n",
            "Layer (type)                 Output Shape              Param #   \n",
            "=================================================================\n",
            "conv2d_1 (Conv2D)            (None, 44, 44, 64)        1664      \n",
            "_________________________________________________________________\n",
            "max_pooling2d_1 (MaxPooling2 (None, 22, 22, 64)        0         \n",
            "_________________________________________________________________\n",
            "conv2d_2 (Conv2D)            (None, 22, 22, 64)        36928     \n",
            "_________________________________________________________________\n",
            "max_pooling2d_2 (MaxPooling2 (None, 11, 11, 64)        0         \n",
            "_________________________________________________________________\n",
            "conv2d_3 (Conv2D)            (None, 11, 11, 64)        36928     \n",
            "_________________________________________________________________\n",
            "conv2d_4 (Conv2D)            (None, 11, 11, 128)       73856     \n",
            "_________________________________________________________________\n",
            "conv2d_5 (Conv2D)            (None, 11, 11, 128)       147584    \n",
            "_________________________________________________________________\n",
            "average_pooling2d_1 (Average (None, 6, 6, 128)         0         \n",
            "_________________________________________________________________\n",
            "flatten_1 (Flatten)          (None, 4608)              0         \n",
            "_________________________________________________________________\n",
            "dense_1 (Dense)              (None, 1024)              4719616   \n",
            "_________________________________________________________________\n",
            "dropout_1 (Dropout)          (None, 1024)              0         \n",
            "_________________________________________________________________\n",
            "dense_2 (Dense)              (None, 1024)              1049600   \n",
            "_________________________________________________________________\n",
            "dropout_2 (Dropout)          (None, 1024)              0         \n",
            "_________________________________________________________________\n",
            "dense_3 (Dense)              (None, 7)                 7175      \n",
            "=================================================================\n",
            "Total params: 6,073,351\n",
            "Trainable params: 6,073,351\n",
            "Non-trainable params: 0\n",
            "_________________________________________________________________\n",
            "3589/3589 [==============================] - 2s 543us/step\n",
            "Test Loss: 1.6298511003378409\n",
            "Test Accuracy: 0.592365565838738\n"
          ],
          "name": "stdout"
        }
      ]
    },
    {
      "metadata": {
        "id": "l-uH_boMfh2O",
        "colab_type": "code",
        "colab": {
          "base_uri": "https://localhost:8080/",
          "height": 119
        },
        "outputId": "28d17a2a-63f2-4a2b-c612-4be3dce0ecfc"
      },
      "cell_type": "code",
      "source": [
        "from keras.models import Model\n",
        "\n",
        "layer_name = 'dropout_2'\n",
        "\n",
        "intermediate_layer_model = Model(inputs=saved_model.input, outputs=saved_model.get_layer(layer_name).output)\n",
        "\n",
        "train_features = intermediate_layer_model.predict(X_train)\n",
        "train_labels = np.argmax(y_train,axis=1)\n",
        "\n",
        "print(train_features.shape)\n",
        "print(train_labels.shape)\n",
        "\n",
        "val_features = intermediate_layer_model.predict(X_val)\n",
        "val_labels = np.argmax(y_val,axis=1)\n",
        "\n",
        "print(val_features.shape)\n",
        "print(val_labels.shape)\n",
        "\n",
        "test_features = intermediate_layer_model.predict(X_test)\n",
        "test_labels = np.argmax(y_test,axis=1)\n",
        "\n",
        "print(test_features.shape)\n",
        "print(test_labels.shape)\n"
      ],
      "execution_count": 7,
      "outputs": [
        {
          "output_type": "stream",
          "text": [
            "(28709, 1024)\n",
            "(28709,)\n",
            "(3589, 1024)\n",
            "(3589,)\n",
            "(3589, 1024)\n",
            "(3589,)\n"
          ],
          "name": "stdout"
        }
      ]
    },
    {
      "metadata": {
        "id": "Bi8gPAA7gDXa",
        "colab_type": "code",
        "colab": {
          "base_uri": "https://localhost:8080/",
          "height": 34
        },
        "outputId": "55c8ff7b-3e9f-4a61-db88-0fbe5d99c673"
      },
      "cell_type": "code",
      "source": [
        "from sklearn.svm import SVC\n",
        "  \n",
        "clf = SVC(C=1.0, kernel=\"rbf\")\n",
        "clf.fit(train_features, train_labels)\n",
        "\n",
        "\n",
        "pred_test_label = clf.predict(test_features)\n",
        "num = len(pred_test_label)\n",
        "accuracy = len([1 for i in range(num) if test_labels[i]==pred_test_label[i]])/float(num)\n",
        "\n",
        "print(\"svm on the top of cnn -  %.2f%% accuracy:\" % (accuracy * 100))\n"
      ],
      "execution_count": 8,
      "outputs": [
        {
          "output_type": "stream",
          "text": [
            "svm on the top of cnn -  60.32% accuracy:\n"
          ],
          "name": "stdout"
        }
      ]
    },
    {
      "metadata": {
        "id": "_QPwwCiliTyP",
        "colab_type": "code",
        "colab": {}
      },
      "cell_type": "code",
      "source": [
        ""
      ],
      "execution_count": 0,
      "outputs": []
    }
  ]
}